{
 "cells": [
  {
   "cell_type": "markdown",
   "metadata": {},
   "source": [
    "# Example usage of fneighcf\n",
    "\n",
    "This Ipython notebook illustrates the usage of the [fneighcf](https://github.com/david-cortes/fneighcf) package, a Python implementation of the collaborative filtering algorithm described in _Koren, Y. (2010). Factor in the neighbors: Scalable and accurate collaborative filtering. ACM Transactions on Knowledge Discovery from Data (TKDD), 4(1), 1._.\n",
    "\n",
    "Loading the [Movielens-100k dataset](https://grouplens.org/datasets/movielens/100k/):"
   ]
  },
  {
   "cell_type": "code",
   "execution_count": 1,
   "metadata": {
    "collapsed": false
   },
   "outputs": [
    {
     "data": {
      "text/html": [
       "<div>\n",
       "<style>\n",
       "    .dataframe thead tr:only-child th {\n",
       "        text-align: right;\n",
       "    }\n",
       "\n",
       "    .dataframe thead th {\n",
       "        text-align: left;\n",
       "    }\n",
       "\n",
       "    .dataframe tbody tr th {\n",
       "        vertical-align: top;\n",
       "    }\n",
       "</style>\n",
       "<table border=\"1\" class=\"dataframe\">\n",
       "  <thead>\n",
       "    <tr style=\"text-align: right;\">\n",
       "      <th></th>\n",
       "      <th>UserId</th>\n",
       "      <th>ItemId</th>\n",
       "      <th>Rating</th>\n",
       "      <th>Timestamp</th>\n",
       "    </tr>\n",
       "  </thead>\n",
       "  <tbody>\n",
       "    <tr>\n",
       "      <th>0</th>\n",
       "      <td>1</td>\n",
       "      <td>1</td>\n",
       "      <td>5</td>\n",
       "      <td>1997-09-23 01:02:38</td>\n",
       "    </tr>\n",
       "    <tr>\n",
       "      <th>1</th>\n",
       "      <td>1</td>\n",
       "      <td>2</td>\n",
       "      <td>3</td>\n",
       "      <td>1997-10-15 08:26:11</td>\n",
       "    </tr>\n",
       "    <tr>\n",
       "      <th>2</th>\n",
       "      <td>1</td>\n",
       "      <td>3</td>\n",
       "      <td>4</td>\n",
       "      <td>1997-11-03 09:42:40</td>\n",
       "    </tr>\n",
       "    <tr>\n",
       "      <th>3</th>\n",
       "      <td>1</td>\n",
       "      <td>4</td>\n",
       "      <td>3</td>\n",
       "      <td>1997-10-15 08:25:19</td>\n",
       "    </tr>\n",
       "    <tr>\n",
       "      <th>4</th>\n",
       "      <td>1</td>\n",
       "      <td>5</td>\n",
       "      <td>3</td>\n",
       "      <td>1998-03-13 03:15:12</td>\n",
       "    </tr>\n",
       "  </tbody>\n",
       "</table>\n",
       "</div>"
      ],
      "text/plain": [
       "   UserId  ItemId  Rating           Timestamp\n",
       "0       1       1       5 1997-09-23 01:02:38\n",
       "1       1       2       3 1997-10-15 08:26:11\n",
       "2       1       3       4 1997-11-03 09:42:40\n",
       "3       1       4       3 1997-10-15 08:25:19\n",
       "4       1       5       3 1998-03-13 03:15:12"
      ]
     },
     "execution_count": 1,
     "metadata": {},
     "output_type": "execute_result"
    }
   ],
   "source": [
    "import pandas as pd, numpy as np, time\n",
    "from datetime import datetime\n",
    "\n",
    "ratings=pd.read_table('u.data',sep='\\t',engine='python',names=['UserId','ItemId','Rating','Timestamp'])\n",
    "ratings['Timestamp']=ratings.Timestamp.map(lambda x: datetime(*time.localtime(x)[:6])).map(lambda x: pd.to_datetime(x))\n",
    "ratings=ratings.sort_values(['UserId','ItemId']).reset_index(drop=True)\n",
    "ratings.head()"
   ]
  },
  {
   "cell_type": "markdown",
   "metadata": {},
   "source": [
    "Splitting the data into a training and testing set - the model will be evaluated only on users and items that were used to estimate the parameters:"
   ]
  },
  {
   "cell_type": "code",
   "execution_count": 2,
   "metadata": {
    "collapsed": false
   },
   "outputs": [
    {
     "name": "stdout",
     "output_type": "stream",
     "text": [
      "(52884, 4)\n",
      "(5835, 4)\n"
     ]
    }
   ],
   "source": [
    "time_cutoff='1998-01-01'\n",
    "train=ratings.loc[ratings.Timestamp<=time_cutoff]\n",
    "test=ratings.loc[ratings.Timestamp>time_cutoff]\n",
    "users_train=set(list(train.UserId))\n",
    "items_train=set(list(train.ItemId))\n",
    "test=test.loc[test.UserId.map(lambda x: x in users_train)]\n",
    "test=test.loc[test.ItemId.map(lambda x: x in items_train)]\n",
    "print(train.shape)\n",
    "print(test.shape)"
   ]
  },
  {
   "cell_type": "markdown",
   "metadata": {},
   "source": [
    "Example usage:"
   ]
  },
  {
   "cell_type": "code",
   "execution_count": 3,
   "metadata": {
    "collapsed": false
   },
   "outputs": [
    {
     "name": "stdout",
     "output_type": "stream",
     "text": [
      "Iteration 1\n",
      "RMSE after biases only: 0.8268826559618411\n",
      "RMSE before update:  0.8268826559618411\n",
      "\n",
      "Iteration 2\n",
      "RMSE after biases only: 0.8193267047229166\n",
      "RMSE before update:  0.6666345885393363\n",
      "\n",
      "Iteration 3\n",
      "RMSE after biases only: 0.8170700866186927\n",
      "RMSE before update:  0.5886276907025956\n",
      "\n",
      "Iteration 4\n",
      "RMSE after biases only: 0.8161189817906047\n",
      "RMSE before update:  0.5497678554428815\n",
      "\n",
      "Iteration 5\n",
      "RMSE after biases only: 0.8157434666605078\n",
      "RMSE before update:  0.5321702767957052\n",
      "\n",
      "Iteration 6\n",
      "RMSE after biases only: 0.8155871304194205\n",
      "RMSE before update:  0.5247975540332956\n",
      "\n",
      "Iteration 7\n",
      "RMSE after biases only: 0.8155253991716207\n",
      "RMSE before update:  0.5218458802392846\n",
      "\n",
      "Iteration 8\n",
      "RMSE after biases only: 0.8155023786279961\n",
      "RMSE before update:  0.5207388242379916\n",
      "\n"
     ]
    }
   ],
   "source": [
    "from fneighcf import FNeigh\n",
    "\n",
    "recc=FNeigh(use_biases=True,norm_nratings=-0.5, reg_param_biases=0.001, reg_param_interactions=0.5, save_ratings=True)\n",
    "recc.fit(train, maxiter=15, step_size_biases=0.001, step_size_interactions=0.05,\n",
    "            decrease_step_sqrt=True, use_sgd=False, verbose=True)"
   ]
  },
  {
   "cell_type": "markdown",
   "metadata": {},
   "source": [
    "Can also fit the model using stochastic gradient descent (iterating over the ratings in a random order, updating the parameters immediately after calcualting errors for each rating) - this requires fewer passes over the data, thus might take less time (recommended for larger datasets). Note that the step sizes and biases should be smaller than when using full gradient descent as above:"
   ]
  },
  {
   "cell_type": "code",
   "execution_count": 4,
   "metadata": {
    "collapsed": true
   },
   "outputs": [],
   "source": [
    "recc=FNeigh(use_biases=True,norm_nratings=-0.5, reg_param_biases=0.001, reg_param_interactions=0.001, save_ratings=True)\n",
    "recc.fit(train, maxiter=5, step_size_biases=0.001, step_size_interactions=0.01,\n",
    "            decrease_step_sqrt=True, use_sgd=True)"
   ]
  },
  {
   "cell_type": "markdown",
   "metadata": {},
   "source": [
    "Test set RMSE"
   ]
  },
  {
   "cell_type": "code",
   "execution_count": 5,
   "metadata": {
    "collapsed": false
   },
   "outputs": [
    {
     "data": {
      "text/plain": [
       "1.121074058013816"
      ]
     },
     "execution_count": 5,
     "metadata": {},
     "output_type": "execute_result"
    }
   ],
   "source": [
    "test['Predicted']=test.apply(lambda x: recc.predict(x['UserId'],x['ItemId']),axis=1)\n",
    "np.mean((test.Rating-test.Predicted)**2)"
   ]
  },
  {
   "cell_type": "markdown",
   "metadata": {},
   "source": [
    "Can also ignore the item bias (a measure of the overall item popularity) when making recommendations - these are overall lower quality, but more varied and more 'customized' for each user, having more serendipity (i.e. more likely to recommend something not obvious):"
   ]
  },
  {
   "cell_type": "code",
   "execution_count": 6,
   "metadata": {
    "collapsed": false
   },
   "outputs": [
    {
     "name": "stderr",
     "output_type": "stream",
     "text": [
      "C:\\Users\\david\\Anaconda3\\lib\\site-packages\\fneighcf\\__init__.py:370: UserWarning: Fewer than two of the items rated had parameters in the model. Recommending most popular items.\n",
      "  warnings.warn('Fewer than two of the items rated had parameters in the model. Recommending most popular items.')\n"
     ]
    }
   ],
   "source": [
    "test['PredictedNoBias']=test.apply(lambda x: recc.score(\n",
    "        rating_history=train[['ItemId','Rating']].loc[train.UserId==x['UserId']],\n",
    "        item=x['ItemId'],\n",
    "        user=x['UserId'],\n",
    "        use_item_bias=False), axis=1)"
   ]
  },
  {
   "cell_type": "markdown",
   "metadata": {},
   "source": [
    "Recommendations for a user without rating - i.e. based on global item popularity:"
   ]
  },
  {
   "cell_type": "code",
   "execution_count": 7,
   "metadata": {
    "collapsed": false
   },
   "outputs": [
    {
     "name": "stdout",
     "output_type": "stream",
     "text": [
      "[1499, 1536, 1629, 1467, 1599, 1512, 1104, 1500, 119, 851, 1450, 1405, 1189, 1175, 1144, 1233, 1158, 1449, 272, 1193]\n",
      "Wall time: 17 ms\n"
     ]
    }
   ],
   "source": [
    "%%time\n",
    "print(recc.top_n(rating_history=[],n=20))"
   ]
  },
  {
   "cell_type": "markdown",
   "metadata": {},
   "source": [
    "Now a fictional user with some random ratings:"
   ]
  },
  {
   "cell_type": "code",
   "execution_count": 8,
   "metadata": {
    "collapsed": false
   },
   "outputs": [
    {
     "name": "stdout",
     "output_type": "stream",
     "text": [
      "[1499, 1536, 1629, 1467, 1599, 1512, 1104, 1500, 119, 851, 1450, 1405, 1189, 1175, 1233, 1144, 1158, 64, 1449, 272]\n",
      "Wall time: 21 ms\n"
     ]
    }
   ],
   "source": [
    "%%time\n",
    "ratings_fictional_user=[(i,np.random.randint(low=1,high=6)) for i in range(1,10) if i in items_train] # (ItemId,Rating)\n",
    "print(recc.top_n(rating_history=ratings_fictional_user,n=20,user=1))"
   ]
  },
  {
   "cell_type": "markdown",
   "metadata": {},
   "source": [
    "Adding more ratings for the fictional user:"
   ]
  },
  {
   "cell_type": "code",
   "execution_count": 9,
   "metadata": {
    "collapsed": false
   },
   "outputs": [
    {
     "name": "stdout",
     "output_type": "stream",
     "text": [
      "[1536, 1499, 1629, 1467, 1599, 1512, 1500, 119, 1104, 851, 1450, 1405, 1189, 1175, 1233, 1144, 408, 169, 1158, 1449]\n",
      "Wall time: 33 ms\n"
     ]
    }
   ],
   "source": [
    "%%time\n",
    "ratings_fictional_user+=[(i,np.random.randint(low=1,high=6)) for i in range(1,100) if i in items_train]\n",
    "print(recc.top_n(rating_history=ratings_fictional_user,n=20,user=1))"
   ]
  },
  {
   "cell_type": "markdown",
   "metadata": {},
   "source": [
    "Recommendations from some random users - a bad point about this model is that Top-N recommendations tend to be all too similar for different users:"
   ]
  },
  {
   "cell_type": "code",
   "execution_count": 10,
   "metadata": {
    "collapsed": false
   },
   "outputs": [
    {
     "name": "stdout",
     "output_type": "stream",
     "text": [
      "[1536, 1499, 1629, 1467, 1599, 1512, 1104, 1500, 851, 1450, 1405, 1189, 1175, 1144, 1233, 1158, 1449, 272, 1193, 733]\n",
      "Wall time: 24 ms\n"
     ]
    }
   ],
   "source": [
    "%%time\n",
    "print(recc.top_n_saved(user=1,n=20))"
   ]
  },
  {
   "cell_type": "code",
   "execution_count": 11,
   "metadata": {
    "collapsed": false
   },
   "outputs": [
    {
     "name": "stdout",
     "output_type": "stream",
     "text": [
      "[1536, 1499, 1629, 1467, 1599, 1512, 1104, 1500, 119, 851, 1450, 1405, 1189, 1175, 1144, 1233, 1158, 1449, 272, 1193]\n"
     ]
    }
   ],
   "source": [
    "print(recc.top_n_saved(user=870,n=20))"
   ]
  },
  {
   "cell_type": "markdown",
   "metadata": {},
   "source": [
    "If we exclude the item popularity from the scoring of items, the recommendations become more varied and tailored to each user:"
   ]
  },
  {
   "cell_type": "code",
   "execution_count": 12,
   "metadata": {
    "collapsed": false
   },
   "outputs": [
    {
     "name": "stdout",
     "output_type": "stream",
     "text": [
      "[1682, 694, 652, 654, 655, 656, 657, 663, 664, 692, 693, 695, 706, 696, 697, 698, 699, 700, 701, 702]\n",
      "Wall time: 26 ms\n"
     ]
    }
   ],
   "source": [
    "%%time\n",
    "print(recc.top_n_saved(user=1,n=20,use_item_bias=False))"
   ]
  },
  {
   "cell_type": "code",
   "execution_count": 13,
   "metadata": {
    "collapsed": false
   },
   "outputs": [
    {
     "name": "stdout",
     "output_type": "stream",
     "text": [
      "[1682, 694, 652, 656, 664, 695, 706, 696, 698, 700, 701, 702, 703, 629, 617, 615, 611, 686, 687, 688]\n"
     ]
    }
   ],
   "source": [
    "print(recc.top_n_saved(user=870,n=20,use_item_bias=False))"
   ]
  },
  {
   "cell_type": "markdown",
   "metadata": {},
   "source": [
    "Some basic comparisons:"
   ]
  },
  {
   "cell_type": "code",
   "execution_count": 14,
   "metadata": {
    "collapsed": false
   },
   "outputs": [
    {
     "name": "stdout",
     "output_type": "stream",
     "text": [
      "Averge movie rating: 3.5602718818211856\n",
      "Average rating for top-5 rated by each user: 4.5298621745788665\n",
      "Average rating for bottom-5 rated by each user: 2.246554364471669\n",
      "Average rating for top-5 recommendations of best-rated movies: 4.029096477794793\n",
      "----------------------\n",
      "Average rating for top-5 recommendations from this model: 4.065849923430322\n",
      "Average rating for top-5 recommendations from this model (without item bias): 3.9494640122511484\n",
      "Average rating for bottom-5 (non-)recommendations from this model: 2.996937212863706\n"
     ]
    }
   ],
   "source": [
    "avg_ratings=train.groupby('ItemId')['Rating'].mean().to_frame().rename(columns={\"Rating\":\"AvgRating\"})\n",
    "test=pd.merge(test,avg_ratings,left_on='ItemId',right_index=True,how='left')\n",
    "\n",
    "print('Averge movie rating:',test.groupby('UserId')['Rating'].mean().mean())\n",
    "print('Average rating for top-5 rated by each user:',test.sort_values(['UserId','Rating'],ascending=False).groupby('UserId')['Rating'].head(5).mean())\n",
    "print('Average rating for bottom-5 rated by each user:',test.sort_values(['UserId','Rating'],ascending=True).groupby('UserId')['Rating'].head(5).mean())\n",
    "print('Average rating for top-5 recommendations of best-rated movies:',test.sort_values(['UserId','AvgRating'],ascending=False).groupby('UserId')['Rating'].head(5).mean())\n",
    "print('----------------------')\n",
    "print('Average rating for top-5 recommendations from this model:',test.sort_values(['UserId','Predicted'],ascending=False).groupby('UserId')['Rating'].head(5).mean())\n",
    "print('Average rating for top-5 recommendations from this model (without item bias):',test.sort_values(['UserId','PredictedNoBias'],ascending=False).groupby('UserId')['Rating'].head(5).mean())\n",
    "print('Average rating for bottom-5 (non-)recommendations from this model:',test.sort_values(['UserId','Predicted'],ascending=True).groupby('UserId')['Rating'].head(5).mean())"
   ]
  },
  {
   "cell_type": "code",
   "execution_count": 15,
   "metadata": {
    "collapsed": false
   },
   "outputs": [
    {
     "data": {
      "text/html": [
       "<div>\n",
       "<style>\n",
       "    .dataframe thead tr:only-child th {\n",
       "        text-align: right;\n",
       "    }\n",
       "\n",
       "    .dataframe thead th {\n",
       "        text-align: left;\n",
       "    }\n",
       "\n",
       "    .dataframe tbody tr th {\n",
       "        vertical-align: top;\n",
       "    }\n",
       "</style>\n",
       "<table border=\"1\" class=\"dataframe\">\n",
       "  <thead>\n",
       "    <tr style=\"text-align: right;\">\n",
       "      <th></th>\n",
       "      <th>UserId</th>\n",
       "      <th>ItemId</th>\n",
       "      <th>Rating</th>\n",
       "      <th>Timestamp</th>\n",
       "      <th>Predicted</th>\n",
       "      <th>PredictedNoBias</th>\n",
       "    </tr>\n",
       "  </thead>\n",
       "  <tbody>\n",
       "    <tr>\n",
       "      <th>99919</th>\n",
       "      <td>943</td>\n",
       "      <td>318</td>\n",
       "      <td>3</td>\n",
       "      <td>1998-02-28 06:11:33</td>\n",
       "      <td>4.232707</td>\n",
       "      <td>0.136666</td>\n",
       "    </tr>\n",
       "    <tr>\n",
       "      <th>99866</th>\n",
       "      <td>943</td>\n",
       "      <td>98</td>\n",
       "      <td>5</td>\n",
       "      <td>1998-02-28 06:09:40</td>\n",
       "      <td>4.165017</td>\n",
       "      <td>0.168649</td>\n",
       "    </tr>\n",
       "    <tr>\n",
       "      <th>99850</th>\n",
       "      <td>943</td>\n",
       "      <td>56</td>\n",
       "      <td>5</td>\n",
       "      <td>1998-02-28 06:14:29</td>\n",
       "      <td>4.103143</td>\n",
       "      <td>0.256862</td>\n",
       "    </tr>\n",
       "    <tr>\n",
       "      <th>97905</th>\n",
       "      <td>921</td>\n",
       "      <td>174</td>\n",
       "      <td>5</td>\n",
       "      <td>1998-01-13 08:43:00</td>\n",
       "      <td>3.981879</td>\n",
       "      <td>0.262914</td>\n",
       "    </tr>\n",
       "    <tr>\n",
       "      <th>97903</th>\n",
       "      <td>921</td>\n",
       "      <td>172</td>\n",
       "      <td>4</td>\n",
       "      <td>1998-01-13 08:43:43</td>\n",
       "      <td>3.913905</td>\n",
       "      <td>0.238139</td>\n",
       "    </tr>\n",
       "    <tr>\n",
       "      <th>97955</th>\n",
       "      <td>921</td>\n",
       "      <td>603</td>\n",
       "      <td>3</td>\n",
       "      <td>1998-01-13 08:44:28</td>\n",
       "      <td>3.735175</td>\n",
       "      <td>0.065376</td>\n",
       "    </tr>\n",
       "    <tr>\n",
       "      <th>97716</th>\n",
       "      <td>919</td>\n",
       "      <td>272</td>\n",
       "      <td>5</td>\n",
       "      <td>1998-01-17 19:50:52</td>\n",
       "      <td>4.218175</td>\n",
       "      <td>0.010901</td>\n",
       "    </tr>\n",
       "    <tr>\n",
       "      <th>97743</th>\n",
       "      <td>919</td>\n",
       "      <td>313</td>\n",
       "      <td>5</td>\n",
       "      <td>1998-01-17 19:50:00</td>\n",
       "      <td>3.966001</td>\n",
       "      <td>0.036423</td>\n",
       "    </tr>\n",
       "    <tr>\n",
       "      <th>97724</th>\n",
       "      <td>919</td>\n",
       "      <td>286</td>\n",
       "      <td>4</td>\n",
       "      <td>1998-01-17 19:50:00</td>\n",
       "      <td>3.785180</td>\n",
       "      <td>0.163585</td>\n",
       "    </tr>\n",
       "    <tr>\n",
       "      <th>97069</th>\n",
       "      <td>913</td>\n",
       "      <td>258</td>\n",
       "      <td>4</td>\n",
       "      <td>1998-03-08 06:24:09</td>\n",
       "      <td>3.832721</td>\n",
       "      <td>0.091046</td>\n",
       "    </tr>\n",
       "    <tr>\n",
       "      <th>96831</th>\n",
       "      <td>910</td>\n",
       "      <td>313</td>\n",
       "      <td>4</td>\n",
       "      <td>1998-01-08 05:11:32</td>\n",
       "      <td>3.689418</td>\n",
       "      <td>0.010151</td>\n",
       "    </tr>\n",
       "    <tr>\n",
       "      <th>96822</th>\n",
       "      <td>910</td>\n",
       "      <td>286</td>\n",
       "      <td>3</td>\n",
       "      <td>1998-01-02 18:56:56</td>\n",
       "      <td>3.266861</td>\n",
       "      <td>-0.024527</td>\n",
       "    </tr>\n",
       "    <tr>\n",
       "      <th>96823</th>\n",
       "      <td>910</td>\n",
       "      <td>288</td>\n",
       "      <td>3</td>\n",
       "      <td>1998-01-08 05:13:44</td>\n",
       "      <td>3.227263</td>\n",
       "      <td>0.078704</td>\n",
       "    </tr>\n",
       "    <tr>\n",
       "      <th>96587</th>\n",
       "      <td>907</td>\n",
       "      <td>272</td>\n",
       "      <td>5</td>\n",
       "      <td>1998-01-27 02:14:53</td>\n",
       "      <td>5.011189</td>\n",
       "      <td>0.006021</td>\n",
       "    </tr>\n",
       "    <tr>\n",
       "      <th>96604</th>\n",
       "      <td>907</td>\n",
       "      <td>313</td>\n",
       "      <td>5</td>\n",
       "      <td>1998-01-27 02:14:53</td>\n",
       "      <td>4.728113</td>\n",
       "      <td>0.011404</td>\n",
       "    </tr>\n",
       "    <tr>\n",
       "      <th>96565</th>\n",
       "      <td>907</td>\n",
       "      <td>129</td>\n",
       "      <td>5</td>\n",
       "      <td>1998-01-27 02:53:48</td>\n",
       "      <td>4.509497</td>\n",
       "      <td>0.061933</td>\n",
       "    </tr>\n",
       "    <tr>\n",
       "      <th>95155</th>\n",
       "      <td>894</td>\n",
       "      <td>272</td>\n",
       "      <td>4</td>\n",
       "      <td>1998-01-22 02:12:32</td>\n",
       "      <td>4.367188</td>\n",
       "      <td>0.017336</td>\n",
       "    </tr>\n",
       "    <tr>\n",
       "      <th>95278</th>\n",
       "      <td>894</td>\n",
       "      <td>909</td>\n",
       "      <td>3</td>\n",
       "      <td>1998-03-09 20:43:27</td>\n",
       "      <td>4.252714</td>\n",
       "      <td>0.002319</td>\n",
       "    </tr>\n",
       "    <tr>\n",
       "      <th>95324</th>\n",
       "      <td>894</td>\n",
       "      <td>1592</td>\n",
       "      <td>4</td>\n",
       "      <td>1998-03-09 20:49:51</td>\n",
       "      <td>4.252514</td>\n",
       "      <td>0.002157</td>\n",
       "    </tr>\n",
       "    <tr>\n",
       "      <th>94751</th>\n",
       "      <td>891</td>\n",
       "      <td>50</td>\n",
       "      <td>4</td>\n",
       "      <td>1998-04-04 00:24:42</td>\n",
       "      <td>4.298294</td>\n",
       "      <td>0.086732</td>\n",
       "    </tr>\n",
       "    <tr>\n",
       "      <th>94752</th>\n",
       "      <td>891</td>\n",
       "      <td>100</td>\n",
       "      <td>5</td>\n",
       "      <td>1998-04-04 00:20:33</td>\n",
       "      <td>4.224780</td>\n",
       "      <td>0.059922</td>\n",
       "    </tr>\n",
       "    <tr>\n",
       "      <th>94771</th>\n",
       "      <td>891</td>\n",
       "      <td>313</td>\n",
       "      <td>5</td>\n",
       "      <td>1998-04-04 00:18:57</td>\n",
       "      <td>4.126772</td>\n",
       "      <td>0.008019</td>\n",
       "    </tr>\n",
       "    <tr>\n",
       "      <th>92834</th>\n",
       "      <td>880</td>\n",
       "      <td>272</td>\n",
       "      <td>5</td>\n",
       "      <td>1998-04-19 06:53:56</td>\n",
       "      <td>4.138175</td>\n",
       "      <td>0.008152</td>\n",
       "    </tr>\n",
       "    <tr>\n",
       "      <th>92823</th>\n",
       "      <td>880</td>\n",
       "      <td>246</td>\n",
       "      <td>5</td>\n",
       "      <td>1998-04-19 07:07:17</td>\n",
       "      <td>3.959754</td>\n",
       "      <td>0.198133</td>\n",
       "    </tr>\n",
       "    <tr>\n",
       "      <th>92833</th>\n",
       "      <td>880</td>\n",
       "      <td>269</td>\n",
       "      <td>4</td>\n",
       "      <td>1998-04-19 06:54:50</td>\n",
       "      <td>3.896679</td>\n",
       "      <td>0.158894</td>\n",
       "    </tr>\n",
       "    <tr>\n",
       "      <th>91862</th>\n",
       "      <td>870</td>\n",
       "      <td>64</td>\n",
       "      <td>5</td>\n",
       "      <td>1998-03-12 17:38:22</td>\n",
       "      <td>4.295374</td>\n",
       "      <td>0.204557</td>\n",
       "    </tr>\n",
       "    <tr>\n",
       "      <th>91890</th>\n",
       "      <td>870</td>\n",
       "      <td>169</td>\n",
       "      <td>4</td>\n",
       "      <td>1998-02-21 23:12:40</td>\n",
       "      <td>4.245778</td>\n",
       "      <td>0.141228</td>\n",
       "    </tr>\n",
       "    <tr>\n",
       "      <th>91934</th>\n",
       "      <td>870</td>\n",
       "      <td>272</td>\n",
       "      <td>4</td>\n",
       "      <td>1998-03-26 16:01:56</td>\n",
       "      <td>4.171494</td>\n",
       "      <td>0.010111</td>\n",
       "    </tr>\n",
       "    <tr>\n",
       "      <th>91135</th>\n",
       "      <td>864</td>\n",
       "      <td>64</td>\n",
       "      <td>5</td>\n",
       "      <td>1998-03-03 03:17:10</td>\n",
       "      <td>4.914463</td>\n",
       "      <td>0.146925</td>\n",
       "    </tr>\n",
       "    <tr>\n",
       "      <th>91257</th>\n",
       "      <td>864</td>\n",
       "      <td>318</td>\n",
       "      <td>5</td>\n",
       "      <td>1998-03-03 03:04:31</td>\n",
       "      <td>4.894534</td>\n",
       "      <td>0.146071</td>\n",
       "    </tr>\n",
       "    <tr>\n",
       "      <th>...</th>\n",
       "      <td>...</td>\n",
       "      <td>...</td>\n",
       "      <td>...</td>\n",
       "      <td>...</td>\n",
       "      <td>...</td>\n",
       "      <td>...</td>\n",
       "    </tr>\n",
       "    <tr>\n",
       "      <th>6951</th>\n",
       "      <td>64</td>\n",
       "      <td>64</td>\n",
       "      <td>4</td>\n",
       "      <td>1998-03-12 23:17:34</td>\n",
       "      <td>4.275245</td>\n",
       "      <td>0.087094</td>\n",
       "    </tr>\n",
       "    <tr>\n",
       "      <th>7047</th>\n",
       "      <td>64</td>\n",
       "      <td>318</td>\n",
       "      <td>4</td>\n",
       "      <td>1998-03-12 23:19:53</td>\n",
       "      <td>4.179890</td>\n",
       "      <td>0.046605</td>\n",
       "    </tr>\n",
       "    <tr>\n",
       "      <th>6464</th>\n",
       "      <td>60</td>\n",
       "      <td>272</td>\n",
       "      <td>4</td>\n",
       "      <td>1998-03-07 18:07:20</td>\n",
       "      <td>4.655396</td>\n",
       "      <td>0.005626</td>\n",
       "    </tr>\n",
       "    <tr>\n",
       "      <th>5486</th>\n",
       "      <td>54</td>\n",
       "      <td>272</td>\n",
       "      <td>5</td>\n",
       "      <td>1998-03-23 01:09:35</td>\n",
       "      <td>4.382909</td>\n",
       "      <td>0.009092</td>\n",
       "    </tr>\n",
       "    <tr>\n",
       "      <th>5495</th>\n",
       "      <td>54</td>\n",
       "      <td>313</td>\n",
       "      <td>4</td>\n",
       "      <td>1998-03-23 01:12:40</td>\n",
       "      <td>4.086160</td>\n",
       "      <td>0.000526</td>\n",
       "    </tr>\n",
       "    <tr>\n",
       "      <th>5492</th>\n",
       "      <td>54</td>\n",
       "      <td>298</td>\n",
       "      <td>4</td>\n",
       "      <td>1998-04-16 02:01:40</td>\n",
       "      <td>3.975041</td>\n",
       "      <td>0.144865</td>\n",
       "    </tr>\n",
       "    <tr>\n",
       "      <th>4897</th>\n",
       "      <td>44</td>\n",
       "      <td>313</td>\n",
       "      <td>4</td>\n",
       "      <td>1998-01-01 01:51:08</td>\n",
       "      <td>4.136224</td>\n",
       "      <td>0.021077</td>\n",
       "    </tr>\n",
       "    <tr>\n",
       "      <th>4858</th>\n",
       "      <td>44</td>\n",
       "      <td>183</td>\n",
       "      <td>4</td>\n",
       "      <td>1998-01-01 02:09:32</td>\n",
       "      <td>4.085481</td>\n",
       "      <td>0.117310</td>\n",
       "    </tr>\n",
       "    <tr>\n",
       "      <th>4856</th>\n",
       "      <td>44</td>\n",
       "      <td>176</td>\n",
       "      <td>5</td>\n",
       "      <td>1998-01-01 02:09:32</td>\n",
       "      <td>3.963526</td>\n",
       "      <td>0.060621</td>\n",
       "    </tr>\n",
       "    <tr>\n",
       "      <th>4675</th>\n",
       "      <td>43</td>\n",
       "      <td>272</td>\n",
       "      <td>5</td>\n",
       "      <td>1998-01-05 00:39:05</td>\n",
       "      <td>4.623588</td>\n",
       "      <td>0.006801</td>\n",
       "    </tr>\n",
       "    <tr>\n",
       "      <th>4620</th>\n",
       "      <td>43</td>\n",
       "      <td>114</td>\n",
       "      <td>5</td>\n",
       "      <td>1998-01-05 01:02:30</td>\n",
       "      <td>4.484958</td>\n",
       "      <td>0.075224</td>\n",
       "    </tr>\n",
       "    <tr>\n",
       "      <th>4585</th>\n",
       "      <td>43</td>\n",
       "      <td>12</td>\n",
       "      <td>5</td>\n",
       "      <td>1998-01-05 01:04:08</td>\n",
       "      <td>4.442955</td>\n",
       "      <td>0.042529</td>\n",
       "    </tr>\n",
       "    <tr>\n",
       "      <th>3909</th>\n",
       "      <td>30</td>\n",
       "      <td>174</td>\n",
       "      <td>5</td>\n",
       "      <td>1998-01-28 00:45:56</td>\n",
       "      <td>4.017507</td>\n",
       "      <td>0.084439</td>\n",
       "    </tr>\n",
       "    <tr>\n",
       "      <th>3923</th>\n",
       "      <td>30</td>\n",
       "      <td>313</td>\n",
       "      <td>5</td>\n",
       "      <td>1998-01-28 00:45:56</td>\n",
       "      <td>3.868996</td>\n",
       "      <td>0.009355</td>\n",
       "    </tr>\n",
       "    <tr>\n",
       "      <th>3939</th>\n",
       "      <td>30</td>\n",
       "      <td>1007</td>\n",
       "      <td>5</td>\n",
       "      <td>1998-01-28 00:45:56</td>\n",
       "      <td>3.737296</td>\n",
       "      <td>0.032037</td>\n",
       "    </tr>\n",
       "    <tr>\n",
       "      <th>3471</th>\n",
       "      <td>23</td>\n",
       "      <td>483</td>\n",
       "      <td>4</td>\n",
       "      <td>1998-01-11 22:20:48</td>\n",
       "      <td>4.316130</td>\n",
       "      <td>0.177558</td>\n",
       "    </tr>\n",
       "    <tr>\n",
       "      <th>3494</th>\n",
       "      <td>23</td>\n",
       "      <td>694</td>\n",
       "      <td>4</td>\n",
       "      <td>1998-01-11 22:20:49</td>\n",
       "      <td>3.961804</td>\n",
       "      <td>0.078249</td>\n",
       "    </tr>\n",
       "    <tr>\n",
       "      <th>3409</th>\n",
       "      <td>23</td>\n",
       "      <td>177</td>\n",
       "      <td>4</td>\n",
       "      <td>1998-01-11 22:20:03</td>\n",
       "      <td>3.816791</td>\n",
       "      <td>-0.002520</td>\n",
       "    </tr>\n",
       "    <tr>\n",
       "      <th>2353</th>\n",
       "      <td>14</td>\n",
       "      <td>98</td>\n",
       "      <td>3</td>\n",
       "      <td>1998-03-26 05:02:15</td>\n",
       "      <td>4.471025</td>\n",
       "      <td>0.077910</td>\n",
       "    </tr>\n",
       "    <tr>\n",
       "      <th>2336</th>\n",
       "      <td>14</td>\n",
       "      <td>12</td>\n",
       "      <td>5</td>\n",
       "      <td>1998-03-26 05:00:16</td>\n",
       "      <td>4.467582</td>\n",
       "      <td>0.071303</td>\n",
       "    </tr>\n",
       "    <tr>\n",
       "      <th>2398</th>\n",
       "      <td>14</td>\n",
       "      <td>474</td>\n",
       "      <td>4</td>\n",
       "      <td>1998-03-26 05:05:57</td>\n",
       "      <td>4.461663</td>\n",
       "      <td>0.080641</td>\n",
       "    </tr>\n",
       "    <tr>\n",
       "      <th>1871</th>\n",
       "      <td>13</td>\n",
       "      <td>272</td>\n",
       "      <td>4</td>\n",
       "      <td>1998-01-11 19:06:43</td>\n",
       "      <td>3.995339</td>\n",
       "      <td>0.012657</td>\n",
       "    </tr>\n",
       "    <tr>\n",
       "      <th>2089</th>\n",
       "      <td>13</td>\n",
       "      <td>603</td>\n",
       "      <td>4</td>\n",
       "      <td>1998-01-11 19:09:31</td>\n",
       "      <td>3.918623</td>\n",
       "      <td>0.206331</td>\n",
       "    </tr>\n",
       "    <tr>\n",
       "      <th>2323</th>\n",
       "      <td>13</td>\n",
       "      <td>908</td>\n",
       "      <td>1</td>\n",
       "      <td>1998-02-01 05:06:25</td>\n",
       "      <td>3.885014</td>\n",
       "      <td>0.001065</td>\n",
       "    </tr>\n",
       "    <tr>\n",
       "      <th>682</th>\n",
       "      <td>6</td>\n",
       "      <td>272</td>\n",
       "      <td>4</td>\n",
       "      <td>1998-01-02 07:01:44</td>\n",
       "      <td>4.347284</td>\n",
       "      <td>0.013528</td>\n",
       "    </tr>\n",
       "    <tr>\n",
       "      <th>723</th>\n",
       "      <td>6</td>\n",
       "      <td>465</td>\n",
       "      <td>1</td>\n",
       "      <td>1998-01-01 21:38:28</td>\n",
       "      <td>3.608628</td>\n",
       "      <td>0.014956</td>\n",
       "    </tr>\n",
       "    <tr>\n",
       "      <th>797</th>\n",
       "      <td>6</td>\n",
       "      <td>539</td>\n",
       "      <td>2</td>\n",
       "      <td>1998-01-01 21:03:53</td>\n",
       "      <td>2.358653</td>\n",
       "      <td>-0.000088</td>\n",
       "    </tr>\n",
       "    <tr>\n",
       "      <th>271</th>\n",
       "      <td>1</td>\n",
       "      <td>272</td>\n",
       "      <td>3</td>\n",
       "      <td>1998-02-14 06:47:27</td>\n",
       "      <td>4.311099</td>\n",
       "      <td>0.005257</td>\n",
       "    </tr>\n",
       "    <tr>\n",
       "      <th>188</th>\n",
       "      <td>1</td>\n",
       "      <td>189</td>\n",
       "      <td>3</td>\n",
       "      <td>1998-03-01 08:15:28</td>\n",
       "      <td>4.012137</td>\n",
       "      <td>0.070941</td>\n",
       "    </tr>\n",
       "    <tr>\n",
       "      <th>208</th>\n",
       "      <td>1</td>\n",
       "      <td>209</td>\n",
       "      <td>4</td>\n",
       "      <td>1998-03-01 08:15:08</td>\n",
       "      <td>3.966114</td>\n",
       "      <td>0.173819</td>\n",
       "    </tr>\n",
       "  </tbody>\n",
       "</table>\n",
       "<p>403 rows × 6 columns</p>\n",
       "</div>"
      ],
      "text/plain": [
       "       UserId  ItemId  Rating           Timestamp  Predicted  PredictedNoBias\n",
       "99919     943     318       3 1998-02-28 06:11:33   4.232707         0.136666\n",
       "99866     943      98       5 1998-02-28 06:09:40   4.165017         0.168649\n",
       "99850     943      56       5 1998-02-28 06:14:29   4.103143         0.256862\n",
       "97905     921     174       5 1998-01-13 08:43:00   3.981879         0.262914\n",
       "97903     921     172       4 1998-01-13 08:43:43   3.913905         0.238139\n",
       "97955     921     603       3 1998-01-13 08:44:28   3.735175         0.065376\n",
       "97716     919     272       5 1998-01-17 19:50:52   4.218175         0.010901\n",
       "97743     919     313       5 1998-01-17 19:50:00   3.966001         0.036423\n",
       "97724     919     286       4 1998-01-17 19:50:00   3.785180         0.163585\n",
       "97069     913     258       4 1998-03-08 06:24:09   3.832721         0.091046\n",
       "96831     910     313       4 1998-01-08 05:11:32   3.689418         0.010151\n",
       "96822     910     286       3 1998-01-02 18:56:56   3.266861        -0.024527\n",
       "96823     910     288       3 1998-01-08 05:13:44   3.227263         0.078704\n",
       "96587     907     272       5 1998-01-27 02:14:53   5.011189         0.006021\n",
       "96604     907     313       5 1998-01-27 02:14:53   4.728113         0.011404\n",
       "96565     907     129       5 1998-01-27 02:53:48   4.509497         0.061933\n",
       "95155     894     272       4 1998-01-22 02:12:32   4.367188         0.017336\n",
       "95278     894     909       3 1998-03-09 20:43:27   4.252714         0.002319\n",
       "95324     894    1592       4 1998-03-09 20:49:51   4.252514         0.002157\n",
       "94751     891      50       4 1998-04-04 00:24:42   4.298294         0.086732\n",
       "94752     891     100       5 1998-04-04 00:20:33   4.224780         0.059922\n",
       "94771     891     313       5 1998-04-04 00:18:57   4.126772         0.008019\n",
       "92834     880     272       5 1998-04-19 06:53:56   4.138175         0.008152\n",
       "92823     880     246       5 1998-04-19 07:07:17   3.959754         0.198133\n",
       "92833     880     269       4 1998-04-19 06:54:50   3.896679         0.158894\n",
       "91862     870      64       5 1998-03-12 17:38:22   4.295374         0.204557\n",
       "91890     870     169       4 1998-02-21 23:12:40   4.245778         0.141228\n",
       "91934     870     272       4 1998-03-26 16:01:56   4.171494         0.010111\n",
       "91135     864      64       5 1998-03-03 03:17:10   4.914463         0.146925\n",
       "91257     864     318       5 1998-03-03 03:04:31   4.894534         0.146071\n",
       "...       ...     ...     ...                 ...        ...              ...\n",
       "6951       64      64       4 1998-03-12 23:17:34   4.275245         0.087094\n",
       "7047       64     318       4 1998-03-12 23:19:53   4.179890         0.046605\n",
       "6464       60     272       4 1998-03-07 18:07:20   4.655396         0.005626\n",
       "5486       54     272       5 1998-03-23 01:09:35   4.382909         0.009092\n",
       "5495       54     313       4 1998-03-23 01:12:40   4.086160         0.000526\n",
       "5492       54     298       4 1998-04-16 02:01:40   3.975041         0.144865\n",
       "4897       44     313       4 1998-01-01 01:51:08   4.136224         0.021077\n",
       "4858       44     183       4 1998-01-01 02:09:32   4.085481         0.117310\n",
       "4856       44     176       5 1998-01-01 02:09:32   3.963526         0.060621\n",
       "4675       43     272       5 1998-01-05 00:39:05   4.623588         0.006801\n",
       "4620       43     114       5 1998-01-05 01:02:30   4.484958         0.075224\n",
       "4585       43      12       5 1998-01-05 01:04:08   4.442955         0.042529\n",
       "3909       30     174       5 1998-01-28 00:45:56   4.017507         0.084439\n",
       "3923       30     313       5 1998-01-28 00:45:56   3.868996         0.009355\n",
       "3939       30    1007       5 1998-01-28 00:45:56   3.737296         0.032037\n",
       "3471       23     483       4 1998-01-11 22:20:48   4.316130         0.177558\n",
       "3494       23     694       4 1998-01-11 22:20:49   3.961804         0.078249\n",
       "3409       23     177       4 1998-01-11 22:20:03   3.816791        -0.002520\n",
       "2353       14      98       3 1998-03-26 05:02:15   4.471025         0.077910\n",
       "2336       14      12       5 1998-03-26 05:00:16   4.467582         0.071303\n",
       "2398       14     474       4 1998-03-26 05:05:57   4.461663         0.080641\n",
       "1871       13     272       4 1998-01-11 19:06:43   3.995339         0.012657\n",
       "2089       13     603       4 1998-01-11 19:09:31   3.918623         0.206331\n",
       "2323       13     908       1 1998-02-01 05:06:25   3.885014         0.001065\n",
       "682         6     272       4 1998-01-02 07:01:44   4.347284         0.013528\n",
       "723         6     465       1 1998-01-01 21:38:28   3.608628         0.014956\n",
       "797         6     539       2 1998-01-01 21:03:53   2.358653        -0.000088\n",
       "271         1     272       3 1998-02-14 06:47:27   4.311099         0.005257\n",
       "188         1     189       3 1998-03-01 08:15:28   4.012137         0.070941\n",
       "208         1     209       4 1998-03-01 08:15:08   3.966114         0.173819\n",
       "\n",
       "[403 rows x 6 columns]"
      ]
     },
     "execution_count": 15,
     "metadata": {},
     "output_type": "execute_result"
    }
   ],
   "source": [
    "test.sort_values(['UserId','Predicted'],ascending=False).groupby(['UserId']).head(3)"
   ]
  }
 ],
 "metadata": {
  "anaconda-cloud": {},
  "kernelspec": {
   "display_name": "Python [Root]",
   "language": "python",
   "name": "Python [Root]"
  },
  "language_info": {
   "codemirror_mode": {
    "name": "ipython",
    "version": 3
   },
   "file_extension": ".py",
   "mimetype": "text/x-python",
   "name": "python",
   "nbconvert_exporter": "python",
   "pygments_lexer": "ipython3",
   "version": "3.5.2"
  }
 },
 "nbformat": 4,
 "nbformat_minor": 0
}
